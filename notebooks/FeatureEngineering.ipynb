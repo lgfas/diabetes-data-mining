{
 "cells": [
  {
   "metadata": {
    "ExecuteTime": {
     "end_time": "2025-02-02T21:18:07.390939Z",
     "start_time": "2025-02-02T21:18:07.388240Z"
    }
   },
   "cell_type": "code",
   "source": [
    "import sys\n",
    "import os\n",
    "\n",
    "# Adicionar o diretório raiz do projeto ao sys.path\n",
    "project_root = os.path.abspath(os.path.join(os.getcwd(), \"..\"))  # Vai um nível acima de \"notebooks\"\n",
    "sys.path.append(project_root)\n",
    "\n",
    "print(\"Diretório raiz do projeto adicionado ao sys.path:\", project_root)"
   ],
   "outputs": [
    {
     "name": "stdout",
     "output_type": "stream",
     "text": [
      "Diretório raiz do projeto adicionado ao sys.path: C:\\Users\\luisg\\Music\\ufma\\mineracao-de-dados\\diabetes-data-mining\n"
     ]
    }
   ],
   "execution_count": 1
  },
  {
   "cell_type": "code",
   "metadata": {
    "vscode": {
     "languageId": "plaintext"
    },
    "ExecuteTime": {
     "end_time": "2025-02-02T21:18:09.616705Z",
     "start_time": "2025-02-02T21:18:09.614077Z"
    }
   },
   "source": [
    "import pandas as pd"
   ],
   "outputs": [],
   "execution_count": 2
  },
  {
   "cell_type": "code",
   "metadata": {
    "vscode": {
     "languageId": "plaintext"
    },
    "ExecuteTime": {
     "end_time": "2025-02-02T21:18:10.952829Z",
     "start_time": "2025-02-02T21:18:10.950727Z"
    }
   },
   "source": [
    "# 📂 Caminho do arquivo normalizado\n",
    "file_path = \"../dataset/processed/data_cluster.csv\""
   ],
   "outputs": [],
   "execution_count": 3
  },
  {
   "cell_type": "code",
   "metadata": {
    "vscode": {
     "languageId": "plaintext"
    },
    "ExecuteTime": {
     "end_time": "2025-02-02T21:18:13.621539Z",
     "start_time": "2025-02-02T21:18:13.610549Z"
    }
   },
   "source": [
    "# 📂 Carregar o dataset\n",
    "df = pd.read_csv(file_path)\n",
    "print(\"✅ Dataset carregado!\")"
   ],
   "outputs": [
    {
     "name": "stdout",
     "output_type": "stream",
     "text": [
      "✅ Dataset carregado!\n"
     ]
    }
   ],
   "execution_count": 4
  },
  {
   "cell_type": "code",
   "metadata": {
    "vscode": {
     "languageId": "plaintext"
    },
    "ExecuteTime": {
     "end_time": "2025-02-02T21:18:17.814018Z",
     "start_time": "2025-02-02T21:18:17.799068Z"
    }
   },
   "source": [
    "# 🔍 Adicionar variáveis temporais (se Date estiver disponível)\n",
    "# (Você precisará carregar a coluna `Date` de um dataset anterior, se necessário)\n",
    "original_data_path = \"../dataset/processed/data_cleaned.csv\"  # Dataset original com Date\n",
    "df_original = pd.read_csv(original_data_path, parse_dates=[\"Date\"])  # Certifique-se de que \"Date\" esteja no dataset"
   ],
   "outputs": [],
   "execution_count": 5
  },
  {
   "cell_type": "code",
   "metadata": {
    "vscode": {
     "languageId": "plaintext"
    },
    "ExecuteTime": {
     "end_time": "2025-02-02T21:18:20.102551Z",
     "start_time": "2025-02-02T21:18:20.089878Z"
    }
   },
   "source": [
    "df = pd.merge(df, df_original[[\"Date\"]], left_index=True, right_index=True, how=\"left\")"
   ],
   "outputs": [],
   "execution_count": 6
  },
  {
   "cell_type": "code",
   "metadata": {
    "vscode": {
     "languageId": "plaintext"
    },
    "ExecuteTime": {
     "end_time": "2025-02-02T21:18:21.654845Z",
     "start_time": "2025-02-02T21:18:21.649007Z"
    }
   },
   "source": [
    "# Adicionar variáveis temporais (Month e Year)\n",
    "df[\"Month\"] = df[\"Date\"].dt.month\n",
    "df[\"Year\"] = df[\"Date\"].dt.year\n",
    "print(\"✅ Variáveis temporais adicionadas!\")"
   ],
   "outputs": [
    {
     "name": "stdout",
     "output_type": "stream",
     "text": [
      "✅ Variáveis temporais adicionadas!\n"
     ]
    }
   ],
   "execution_count": 7
  },
  {
   "cell_type": "code",
   "metadata": {
    "vscode": {
     "languageId": "plaintext"
    },
    "ExecuteTime": {
     "end_time": "2025-02-02T21:18:23.404467Z",
     "start_time": "2025-02-02T21:18:23.400091Z"
    }
   },
   "source": [
    "# 🔍 Criar faixas de classificação de AQI\n",
    "df[\"AQI Category\"] = pd.cut(\n",
    "    df[\"AQI Value (Normalized)\"],\n",
    "    bins=[0, 0.2, 0.4, 0.6, 0.8, 1],\n",
    "    labels=[\"Very Low\", \"Low\", \"Moderate\", \"High\", \"Very High\"]\n",
    ")\n",
    "print(\"✅ Faixas de classificação de AQI criadas!\")\n"
   ],
   "outputs": [
    {
     "name": "stdout",
     "output_type": "stream",
     "text": [
      "✅ Faixas de classificação de AQI criadas!\n"
     ]
    }
   ],
   "execution_count": 8
  },
  {
   "cell_type": "code",
   "metadata": {
    "vscode": {
     "languageId": "plaintext"
    },
    "ExecuteTime": {
     "end_time": "2025-02-02T21:18:51.829442Z",
     "start_time": "2025-02-02T21:18:51.749769Z"
    }
   },
   "source": [
    "# 📂 Salvar o dataset atualizado\n",
    "df.to_csv(\"../dataset/processed/data_cluster_enriched.csv\", index=False)\n",
    "print(\"✅ Dataset enriquecido salvo como 'data_cluster_enriched.csv'!\")"
   ],
   "outputs": [
    {
     "name": "stdout",
     "output_type": "stream",
     "text": [
      "✅ Dataset enriquecido salvo como 'data_cluster_enriched.csv'!\n"
     ]
    }
   ],
   "execution_count": 9
  }
 ],
 "metadata": {
  "language_info": {
   "name": "python"
  },
  "kernelspec": {
   "name": "python3",
   "language": "python",
   "display_name": "Python 3 (ipykernel)"
  }
 },
 "nbformat": 4,
 "nbformat_minor": 2
}
