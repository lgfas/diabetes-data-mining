{
 "cells": [
  {
   "cell_type": "code",
   "execution_count": null,
   "metadata": {
    "vscode": {
     "languageId": "plaintext"
    }
   },
   "outputs": [],
   "source": [
    "import pandas as pd"
   ]
  },
  {
   "cell_type": "code",
   "execution_count": null,
   "metadata": {
    "vscode": {
     "languageId": "plaintext"
    }
   },
   "outputs": [],
   "source": [
    "# 📂 Caminho do arquivo normalizado\n",
    "file_path = \"../dataset/processed/data_cluster.csv\""
   ]
  },
  {
   "cell_type": "code",
   "execution_count": null,
   "metadata": {
    "vscode": {
     "languageId": "plaintext"
    }
   },
   "outputs": [],
   "source": [
    "# 📂 Carregar o dataset\n",
    "df = pd.read_csv(file_path)\n",
    "print(\"✅ Dataset carregado!\")"
   ]
  },
  {
   "cell_type": "code",
   "execution_count": null,
   "metadata": {
    "vscode": {
     "languageId": "plaintext"
    }
   },
   "outputs": [],
   "source": [
    "# 🔍 Adicionar variáveis temporais (se Date estiver disponível)\n",
    "# (Você precisará carregar a coluna `Date` de um dataset anterior, se necessário)\n",
    "original_data_path = \"../dataset/processed/data_cleaned.csv\"  # Dataset original com Date\n",
    "df_original = pd.read_csv(original_data_path, parse_dates=[\"Date\"])  # Certifique-se de que \"Date\" esteja no dataset"
   ]
  },
  {
   "cell_type": "code",
   "execution_count": null,
   "metadata": {
    "vscode": {
     "languageId": "plaintext"
    }
   },
   "outputs": [],
   "source": [
    "df = pd.merge(df, df_original[[\"Date\"]], left_index=True, right_index=True, how=\"left\")"
   ]
  },
  {
   "cell_type": "code",
   "execution_count": null,
   "metadata": {
    "vscode": {
     "languageId": "plaintext"
    }
   },
   "outputs": [],
   "source": [
    "# Adicionar variáveis temporais (Month e Year)\n",
    "df[\"Month\"] = df[\"Date\"].dt.month\n",
    "df[\"Year\"] = df[\"Date\"].dt.year\n",
    "print(\"✅ Variáveis temporais adicionadas!\")"
   ]
  },
  {
   "cell_type": "code",
   "execution_count": null,
   "metadata": {
    "vscode": {
     "languageId": "plaintext"
    }
   },
   "outputs": [],
   "source": [
    "# 🔍 Criar faixas de classificação de AQI\n",
    "df[\"AQI Category\"] = pd.cut(\n",
    "    df[\"AQI Value (Normalized)\"],\n",
    "    bins=[0, 0.2, 0.4, 0.6, 0.8, 1],\n",
    "    labels=[\"Very Low\", \"Low\", \"Moderate\", \"High\", \"Very High\"]\n",
    ")\n",
    "print(\"✅ Faixas de classificação de AQI criadas!\")\n"
   ]
  },
  {
   "cell_type": "code",
   "execution_count": null,
   "metadata": {
    "vscode": {
     "languageId": "plaintext"
    }
   },
   "outputs": [],
   "source": [
    "# 📂 Salvar o dataset atualizado\n",
    "df.to_csv(\"../dataset/processed/data_cluster_enriched.csv\", index=False)\n",
    "print(\"✅ Dataset enriquecido salvo como 'data_cluster_enriched.csv'!\")"
   ]
  }
 ],
 "metadata": {
  "language_info": {
   "name": "python"
  }
 },
 "nbformat": 4,
 "nbformat_minor": 2
}
