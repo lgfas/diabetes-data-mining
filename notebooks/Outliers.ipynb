{
 "cells": [
  {
   "metadata": {
    "ExecuteTime": {
     "end_time": "2025-02-02T15:08:52.986998Z",
     "start_time": "2025-02-02T15:08:52.983760Z"
    }
   },
   "cell_type": "code",
   "source": [
    "import sys\n",
    "import os\n",
    "\n",
    "# Adicionar o diretório raiz do projeto ao sys.path\n",
    "project_root = os.path.abspath(os.path.join(os.getcwd(), \"..\"))  # Vai um nível acima de \"notebooks\"\n",
    "sys.path.append(project_root)\n",
    "\n",
    "print(\"Diretório raiz do projeto adicionado ao sys.path:\", project_root)\n"
   ],
   "id": "6d5df483e4064b0e",
   "outputs": [
    {
     "name": "stdout",
     "output_type": "stream",
     "text": [
      "Diretório raiz do projeto adicionado ao sys.path: C:\\Users\\luisg\\Music\\ufma\\mineracao-de-dados\\diabetes-data-mining\n"
     ]
    }
   ],
   "execution_count": 2
  },
  {
   "metadata": {
    "ExecuteTime": {
     "end_time": "2025-02-02T15:08:54.580896Z",
     "start_time": "2025-02-02T15:08:54.578022Z"
    }
   },
   "cell_type": "code",
   "source": [
    "# 📦 Imports principais\n",
    "import pandas as pd\n",
    "import seaborn as sns\n",
    "import matplotlib.pyplot as plt\n",
    "\n",
    "# Configurações para exibição e gráficos\n",
    "pd.set_option(\"display.float_format\", \"{:.2f}\".format)\n",
    "sns.set_theme(style=\"whitegrid\")\n",
    "plt.rcParams[\"figure.figsize\"] = (10, 6)"
   ],
   "id": "30e112f565b41dfc",
   "outputs": [],
   "execution_count": 3
  },
  {
   "metadata": {
    "ExecuteTime": {
     "end_time": "2025-02-02T15:08:56.426170Z",
     "start_time": "2025-02-02T15:08:56.405491Z"
    }
   },
   "cell_type": "code",
   "source": [
    "# 📂 Carregar o dataset limpo\n",
    "cleaned_path = \"../dataset/processed/data_cleaned.csv\"\n",
    "df = pd.read_csv(cleaned_path, parse_dates=[\"Date\"])  # Converter 'Date' para datetime\n",
    "\n",
    "# Resumo inicial\n",
    "print(\"\\n✅ Dataset limpo carregado!\")\n",
    "print(df.info())"
   ],
   "id": "f253649e22f0d033",
   "outputs": [
    {
     "name": "stdout",
     "output_type": "stream",
     "text": [
      "\n",
      "✅ Dataset limpo carregado!\n",
      "<class 'pandas.core.frame.DataFrame'>\n",
      "RangeIndex: 17211 entries, 0 to 17210\n",
      "Data columns (total 4 columns):\n",
      " #   Column     Non-Null Count  Dtype         \n",
      "---  ------     --------------  -----         \n",
      " 0   Date       17211 non-null  datetime64[ns]\n",
      " 1   Country    17211 non-null  object        \n",
      " 2   Status     17211 non-null  object        \n",
      " 3   AQI Value  17211 non-null  float64       \n",
      "dtypes: datetime64[ns](1), float64(1), object(2)\n",
      "memory usage: 538.0+ KB\n",
      "None\n"
     ]
    }
   ],
   "execution_count": 4
  }
 ],
 "metadata": {
  "kernelspec": {
   "name": "python3",
   "language": "python",
   "display_name": "Python 3 (ipykernel)"
  }
 },
 "nbformat": 5,
 "nbformat_minor": 9
}
