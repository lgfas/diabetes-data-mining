{
 "cells": [
  {
   "metadata": {
    "ExecuteTime": {
     "end_time": "2025-02-02T19:39:46.797013Z",
     "start_time": "2025-02-02T19:39:46.794573Z"
    }
   },
   "cell_type": "code",
   "source": [
    "import sys\n",
    "import os\n",
    "\n",
    "# Adicionar o diretório raiz do projeto ao sys.path\n",
    "project_root = os.path.abspath(os.path.join(os.getcwd(), \"..\"))  # Vai um nível acima de \"notebooks\"\n",
    "sys.path.append(project_root)\n",
    "\n",
    "print(\"Diretório raiz do projeto adicionado ao sys.path:\", project_root)"
   ],
   "id": "1d80b6d7b97a5066",
   "outputs": [
    {
     "name": "stdout",
     "output_type": "stream",
     "text": [
      "Diretório raiz do projeto adicionado ao sys.path: C:\\Users\\luisg\\Music\\ufma\\mineracao-de-dados\\diabetes-data-mining\n"
     ]
    }
   ],
   "execution_count": 1
  },
  {
   "metadata": {
    "ExecuteTime": {
     "end_time": "2025-02-02T19:41:59.286742Z",
     "start_time": "2025-02-02T19:41:59.284716Z"
    }
   },
   "cell_type": "code",
   "source": [
    "#Imports\n",
    "\n",
    "from sklearn.feature_selection import mutual_info_classif\n",
    "import pandas as pd\n"
   ],
   "id": "a876ec8855fa992a",
   "outputs": [],
   "execution_count": 4
  },
  {
   "metadata": {
    "ExecuteTime": {
     "end_time": "2025-02-02T19:42:00.670632Z",
     "start_time": "2025-02-02T19:42:00.654419Z"
    }
   },
   "cell_type": "code",
   "source": [
    "# Carregar o dataset normalizado\n",
    "normalized_path = \"../dataset/processed/data_normalized.csv\"\n",
    "df = pd.read_csv(normalized_path)\n",
    "\n",
    "# Verificar os dados carregados\n",
    "print(df.head())\n"
   ],
   "id": "4be66ab6b845c3bb",
   "outputs": [
    {
     "name": "stdout",
     "output_type": "stream",
     "text": [
      "   AQI Value (Normalized)                          Status\n",
      "0                0.097713                        Moderate\n",
      "1                0.128898  Unhealthy For Sensitive Groups\n",
      "2                0.064449                        Moderate\n",
      "3                0.021830                            Good\n",
      "4                0.049896                            Good\n"
     ]
    }
   ],
   "execution_count": 5
  },
  {
   "metadata": {
    "ExecuteTime": {
     "end_time": "2025-02-02T19:47:10.202064Z",
     "start_time": "2025-02-02T19:47:10.197267Z"
    }
   },
   "cell_type": "code",
   "source": [
    "# Discretizar AQI Value em categorias (bins)\n",
    "df[\"AQI Binned\"] = pd.cut(df[\"AQI Value (Normalized)\"], bins=5, labels=False)\n"
   ],
   "id": "20d799c09a966dad",
   "outputs": [],
   "execution_count": 7
  },
  {
   "metadata": {
    "ExecuteTime": {
     "end_time": "2025-02-02T19:47:12.177251Z",
     "start_time": "2025-02-02T19:47:12.145745Z"
    }
   },
   "cell_type": "code",
   "source": [
    "# Selecionar variáveis discretizadas e alvo\n",
    "X = df[[\"AQI Binned\"]]\n",
    "y = df[\"Status\"]\n",
    "\n",
    "# Recalcular Mutual Information\n",
    "mi_scores = mutual_info_classif(X, y, discrete_features=True)\n",
    "print(\"📊 Mutual Information Scores:\", mi_scores)\n"
   ],
   "id": "891bcf3ff5939c3e",
   "outputs": [
    {
     "name": "stdout",
     "output_type": "stream",
     "text": [
      "📊 Mutual Information Scores: [0.68342311]\n"
     ]
    }
   ],
   "execution_count": 8
  },
  {
   "metadata": {
    "ExecuteTime": {
     "end_time": "2025-02-02T19:49:30.007697Z",
     "start_time": "2025-02-02T19:49:30.005016Z"
    }
   },
   "cell_type": "code",
   "source": [
    "# Selecionar variáveis para clusterização\n",
    "df_cluster = df[[\"AQI Value (Normalized)\"]]\n"
   ],
   "id": "c5bd0b2135108c1c",
   "outputs": [],
   "execution_count": 9
  },
  {
   "metadata": {
    "ExecuteTime": {
     "end_time": "2025-02-02T19:51:33.971043Z",
     "start_time": "2025-02-02T19:51:33.930907Z"
    }
   },
   "cell_type": "code",
   "source": [
    "# Salvar o dataset preparado para clusterização\n",
    "df_cluster.to_csv(\"../dataset/processed/data_cluster.csv\", index=False)\n",
    "print(\"✅ Dataset preparado e salvo como 'data_cluster.csv'!\")\n"
   ],
   "id": "735cf65c267d8368",
   "outputs": [
    {
     "name": "stdout",
     "output_type": "stream",
     "text": [
      "✅ Dataset preparado e salvo como 'data_cluster.csv'!\n"
     ]
    }
   ],
   "execution_count": 11
  }
 ],
 "metadata": {
  "kernelspec": {
   "name": "python3",
   "language": "python",
   "display_name": "Python 3 (ipykernel)"
  }
 },
 "nbformat": 5,
 "nbformat_minor": 9
}
