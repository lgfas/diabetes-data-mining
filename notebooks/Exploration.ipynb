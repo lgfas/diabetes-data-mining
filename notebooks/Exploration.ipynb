{
 "cells": [
  {
   "cell_type": "code",
   "execution_count": 3,
   "metadata": {},
   "outputs": [],
   "source": [
    "# Imports necessários\n",
    "\n",
    "import pandas as pd\n",
    "import numpy as np\n",
    "import seaborn as sns\n",
    "import matplotlib.pyplot as plt"
   ]
  },
  {
   "cell_type": "code",
   "execution_count": 7,
   "metadata": {},
   "outputs": [
    {
     "name": "stdout",
     "output_type": "stream",
     "text": [
      "✅ Dataset carregado com sucesso usando UTF-8.\n"
     ]
    }
   ],
   "source": [
    "# Caminho do arquivo CSV\n",
    "dataset_path = \"../dataset/raw/DatasetDiabetes.csv\"\n",
    "\n",
    "# Carregar o dataset\n",
    "try:\n",
    "    df = pd.read_csv(dataset_path, encoding=\"utf-8\")  # Testando UTF-8\n",
    "    print(\"✅ Dataset carregado com sucesso usando UTF-8.\")\n",
    "except UnicodeDecodeError:\n",
    "    df = pd.read_csv(dataset_path, encoding=\"ISO-8859-1\")  # Caso UTF-8 falhe\n",
    "    print(\"✅ Dataset carregado com sucesso usando ISO-8859-1.\")\n"
   ]
  },
  {
   "cell_type": "code",
   "execution_count": 9,
   "metadata": {},
   "outputs": [
    {
     "name": "stdout",
     "output_type": "stream",
     "text": [
      "\n",
      "📌 Informações Gerais do Dataset:\n",
      "<class 'pandas.core.frame.DataFrame'>\n",
      "RangeIndex: 1000 entries, 0 to 999\n",
      "Data columns (total 14 columns):\n",
      " #   Column     Non-Null Count  Dtype  \n",
      "---  ------     --------------  -----  \n",
      " 0   ID         1000 non-null   int64  \n",
      " 1   No_Pation  1000 non-null   int64  \n",
      " 2   Gender     1000 non-null   object \n",
      " 3   AGE        1000 non-null   int64  \n",
      " 4   Urea       1000 non-null   float64\n",
      " 5   Cr         1000 non-null   int64  \n",
      " 6   HbA1c      1000 non-null   float64\n",
      " 7   Chol       1000 non-null   float64\n",
      " 8   TG         1000 non-null   float64\n",
      " 9   HDL        1000 non-null   float64\n",
      " 10  LDL        1000 non-null   float64\n",
      " 11  VLDL       1000 non-null   float64\n",
      " 12  BMI        1000 non-null   float64\n",
      " 13  CLASS      1000 non-null   object \n",
      "dtypes: float64(8), int64(4), object(2)\n",
      "memory usage: 109.5+ KB\n",
      "\n",
      "🔍 Primeiras 5 linhas do dataset:\n",
      "    ID  No_Pation Gender  AGE  Urea  Cr  HbA1c  Chol   TG  HDL  LDL  VLDL  \\\n",
      "0  502      17975      F   50   4.7  46    4.9   4.2  0.9  2.4  1.4   0.5   \n",
      "1  735      34221      M   26   4.5  62    4.9   3.7  1.4  1.1  2.1   0.6   \n",
      "2  420      47975      F   50   4.7  46    4.9   4.2  0.9  2.4  1.4   0.5   \n",
      "3  680      87656      F   50   4.7  46    4.9   4.2  0.9  2.4  1.4   0.5   \n",
      "4  504      34223      M   33   7.1  46    4.9   4.9  1.0  0.8  2.0   0.4   \n",
      "\n",
      "    BMI CLASS  \n",
      "0  24.0     N  \n",
      "1  23.0     N  \n",
      "2  24.0     N  \n",
      "3  24.0     N  \n",
      "4  21.0     N  \n"
     ]
    }
   ],
   "source": [
    "# 1️⃣ Visão geral do dataset\n",
    "print(\"\\n📌 Informações Gerais do Dataset:\")\n",
    "df.info()\n",
    "\n",
    "print(\"\\n🔍 Primeiras 5 linhas do dataset:\")\n",
    "print(df.head())\n",
    "\n",
    "print(\"\\n🔍 Últimas 5 linhas do dataset:\")\n",
    "print(df.tail())"
   ]
  },
  {
   "cell_type": "code",
   "execution_count": 16,
   "metadata": {},
   "outputs": [
    {
     "name": "stdout",
     "output_type": "stream",
     "text": [
      "\n",
      "📊 Estatísticas descritivas:\n",
      "                ID     No_Pation          AGE         Urea           Cr  \\\n",
      "count  1000.000000  1.000000e+03  1000.000000  1000.000000  1000.000000   \n",
      "mean    340.500000  2.705514e+05    53.528000     5.124743    68.943000   \n",
      "std     240.397673  3.380758e+06     8.799241     2.935165    59.984747   \n",
      "min       1.000000  1.230000e+02    20.000000     0.500000     6.000000   \n",
      "25%     125.750000  2.406375e+04    51.000000     3.700000    48.000000   \n",
      "50%     300.500000  3.439550e+04    55.000000     4.600000    60.000000   \n",
      "75%     550.250000  4.538425e+04    59.000000     5.700000    73.000000   \n",
      "max     800.000000  7.543566e+07    79.000000    38.900000   800.000000   \n",
      "\n",
      "             HbA1c         Chol           TG          HDL          LDL  \\\n",
      "count  1000.000000  1000.000000  1000.000000  1000.000000  1000.000000   \n",
      "mean      8.281160     4.862820     2.349610     1.204750     2.609790   \n",
      "std       2.534003     1.301738     1.401176     0.660414     1.115102   \n",
      "min       0.900000     0.000000     0.300000     0.200000     0.300000   \n",
      "25%       6.500000     4.000000     1.500000     0.900000     1.800000   \n",
      "50%       8.000000     4.800000     2.000000     1.100000     2.500000   \n",
      "75%      10.200000     5.600000     2.900000     1.300000     3.300000   \n",
      "max      16.000000    10.300000    13.800000     9.900000     9.900000   \n",
      "\n",
      "              VLDL          BMI  \n",
      "count  1000.000000  1000.000000  \n",
      "mean      1.854700    29.578020  \n",
      "std       3.663599     4.962388  \n",
      "min       0.100000    19.000000  \n",
      "25%       0.700000    26.000000  \n",
      "50%       0.900000    30.000000  \n",
      "75%       1.500000    33.000000  \n",
      "max      35.000000    47.750000  \n"
     ]
    }
   ],
   "source": [
    "# 2️⃣ Estatísticas descritivas\n",
    "print(\"\\n📊 Estatísticas descritivas:\")\n",
    "print(df.describe())"
   ]
  },
  {
   "cell_type": "code",
   "execution_count": 15,
   "metadata": {},
   "outputs": [
    {
     "name": "stdout",
     "output_type": "stream",
     "text": [
      "\n",
      "🔍 Quantidade de valores nulos por coluna:\n",
      "ID           0\n",
      "No_Pation    0\n",
      "Gender       0\n",
      "AGE          0\n",
      "Urea         0\n",
      "Cr           0\n",
      "HbA1c        0\n",
      "Chol         0\n",
      "TG           0\n",
      "HDL          0\n",
      "LDL          0\n",
      "VLDL         0\n",
      "BMI          0\n",
      "CLASS        0\n",
      "dtype: int64\n"
     ]
    }
   ],
   "source": [
    "# 3️⃣ Verificar valores nulos\n",
    "print(\"\\n🔍 Quantidade de valores nulos por coluna:\")\n",
    "print(df.isnull().sum())"
   ]
  },
  {
   "cell_type": "code",
   "execution_count": 14,
   "metadata": {},
   "outputs": [
    {
     "name": "stdout",
     "output_type": "stream",
     "text": [
      "\n",
      "🔍 Quantidade de valores únicos por coluna:\n",
      "ID           800\n",
      "No_Pation    961\n",
      "Gender         3\n",
      "AGE           50\n",
      "Urea         110\n",
      "Cr           113\n",
      "HbA1c        111\n",
      "Chol          77\n",
      "TG            69\n",
      "HDL           48\n",
      "LDL           65\n",
      "VLDL          60\n",
      "BMI           64\n",
      "CLASS          5\n",
      "dtype: int64\n"
     ]
    }
   ],
   "source": [
    "# 4️⃣ Verificar valores únicos por coluna\n",
    "print(\"\\n🔍 Quantidade de valores únicos por coluna:\")\n",
    "print(df.nunique())"
   ]
  },
  {
   "cell_type": "code",
   "execution_count": 10,
   "metadata": {},
   "outputs": [
    {
     "name": "stdout",
     "output_type": "stream",
     "text": [
      "\n",
      "📌 Tipos de dados das colunas:\n",
      "ID             int64\n",
      "No_Pation      int64\n",
      "Gender        object\n",
      "AGE            int64\n",
      "Urea         float64\n",
      "Cr             int64\n",
      "HbA1c        float64\n",
      "Chol         float64\n",
      "TG           float64\n",
      "HDL          float64\n",
      "LDL          float64\n",
      "VLDL         float64\n",
      "BMI          float64\n",
      "CLASS         object\n",
      "dtype: object\n"
     ]
    }
   ],
   "source": [
    "# 5️⃣ Verificar tipos de dados\n",
    "print(\"\\n📌 Tipos de dados das colunas:\")\n",
    "print(df.dtypes)\n"
   ]
  },
  {
   "cell_type": "code",
   "execution_count": 11,
   "metadata": {},
   "outputs": [
    {
     "name": "stdout",
     "output_type": "stream",
     "text": [
      "\n",
      "📏 Dimensão do dataset (linhas, colunas): (1000, 14)\n"
     ]
    }
   ],
   "source": [
    "# 6️⃣ Dimensão do dataset\n",
    "print(\"\\n📏 Dimensão do dataset (linhas, colunas):\", df.shape)"
   ]
  },
  {
   "cell_type": "code",
   "execution_count": 12,
   "metadata": {},
   "outputs": [
    {
     "name": "stdout",
     "output_type": "stream",
     "text": [
      "\n",
      "🔍 Número de registros duplicados: 0\n"
     ]
    }
   ],
   "source": [
    "# 7️⃣ Identificar registros duplicados\n",
    "print(\"\\n🔍 Número de registros duplicados:\", df.duplicated().sum())"
   ]
  },
  {
   "cell_type": "code",
   "execution_count": 18,
   "metadata": {},
   "outputs": [
    {
     "name": "stdout",
     "output_type": "stream",
     "text": [
      "\n",
      "📊 Matriz de Correlação das Variáveis Numéricas:\n"
     ]
    },
    {
     "ename": "ValueError",
     "evalue": "could not convert string to float: 'F'",
     "output_type": "error",
     "traceback": [
      "\u001b[1;31m---------------------------------------------------------------------------\u001b[0m",
      "\u001b[1;31mValueError\u001b[0m                                Traceback (most recent call last)",
      "Cell \u001b[1;32mIn[18], line 3\u001b[0m\n\u001b[0;32m      1\u001b[0m \u001b[38;5;66;03m# 8️⃣ Exibir matriz de correlação\u001b[39;00m\n\u001b[0;32m      2\u001b[0m \u001b[38;5;28mprint\u001b[39m(\u001b[38;5;124m\"\u001b[39m\u001b[38;5;130;01m\\n\u001b[39;00m\u001b[38;5;124m📊 Matriz de Correlação das Variáveis Numéricas:\u001b[39m\u001b[38;5;124m\"\u001b[39m)\n\u001b[1;32m----> 3\u001b[0m \u001b[38;5;28mprint\u001b[39m(\u001b[43mdf\u001b[49m\u001b[38;5;241;43m.\u001b[39;49m\u001b[43mcorr\u001b[49m\u001b[43m(\u001b[49m\u001b[43m)\u001b[49m)\n",
      "File \u001b[1;32mc:\\Users\\Matheus\\data-mining\\venv\\Lib\\site-packages\\pandas\\core\\frame.py:11049\u001b[0m, in \u001b[0;36mDataFrame.corr\u001b[1;34m(self, method, min_periods, numeric_only)\u001b[0m\n\u001b[0;32m  11047\u001b[0m cols \u001b[38;5;241m=\u001b[39m data\u001b[38;5;241m.\u001b[39mcolumns\n\u001b[0;32m  11048\u001b[0m idx \u001b[38;5;241m=\u001b[39m cols\u001b[38;5;241m.\u001b[39mcopy()\n\u001b[1;32m> 11049\u001b[0m mat \u001b[38;5;241m=\u001b[39m \u001b[43mdata\u001b[49m\u001b[38;5;241;43m.\u001b[39;49m\u001b[43mto_numpy\u001b[49m\u001b[43m(\u001b[49m\u001b[43mdtype\u001b[49m\u001b[38;5;241;43m=\u001b[39;49m\u001b[38;5;28;43mfloat\u001b[39;49m\u001b[43m,\u001b[49m\u001b[43m \u001b[49m\u001b[43mna_value\u001b[49m\u001b[38;5;241;43m=\u001b[39;49m\u001b[43mnp\u001b[49m\u001b[38;5;241;43m.\u001b[39;49m\u001b[43mnan\u001b[49m\u001b[43m,\u001b[49m\u001b[43m \u001b[49m\u001b[43mcopy\u001b[49m\u001b[38;5;241;43m=\u001b[39;49m\u001b[38;5;28;43;01mFalse\u001b[39;49;00m\u001b[43m)\u001b[49m\n\u001b[0;32m  11051\u001b[0m \u001b[38;5;28;01mif\u001b[39;00m method \u001b[38;5;241m==\u001b[39m \u001b[38;5;124m\"\u001b[39m\u001b[38;5;124mpearson\u001b[39m\u001b[38;5;124m\"\u001b[39m:\n\u001b[0;32m  11052\u001b[0m     correl \u001b[38;5;241m=\u001b[39m libalgos\u001b[38;5;241m.\u001b[39mnancorr(mat, minp\u001b[38;5;241m=\u001b[39mmin_periods)\n",
      "File \u001b[1;32mc:\\Users\\Matheus\\data-mining\\venv\\Lib\\site-packages\\pandas\\core\\frame.py:1993\u001b[0m, in \u001b[0;36mDataFrame.to_numpy\u001b[1;34m(self, dtype, copy, na_value)\u001b[0m\n\u001b[0;32m   1991\u001b[0m \u001b[38;5;28;01mif\u001b[39;00m dtype \u001b[38;5;129;01mis\u001b[39;00m \u001b[38;5;129;01mnot\u001b[39;00m \u001b[38;5;28;01mNone\u001b[39;00m:\n\u001b[0;32m   1992\u001b[0m     dtype \u001b[38;5;241m=\u001b[39m np\u001b[38;5;241m.\u001b[39mdtype(dtype)\n\u001b[1;32m-> 1993\u001b[0m result \u001b[38;5;241m=\u001b[39m \u001b[38;5;28;43mself\u001b[39;49m\u001b[38;5;241;43m.\u001b[39;49m\u001b[43m_mgr\u001b[49m\u001b[38;5;241;43m.\u001b[39;49m\u001b[43mas_array\u001b[49m\u001b[43m(\u001b[49m\u001b[43mdtype\u001b[49m\u001b[38;5;241;43m=\u001b[39;49m\u001b[43mdtype\u001b[49m\u001b[43m,\u001b[49m\u001b[43m \u001b[49m\u001b[43mcopy\u001b[49m\u001b[38;5;241;43m=\u001b[39;49m\u001b[43mcopy\u001b[49m\u001b[43m,\u001b[49m\u001b[43m \u001b[49m\u001b[43mna_value\u001b[49m\u001b[38;5;241;43m=\u001b[39;49m\u001b[43mna_value\u001b[49m\u001b[43m)\u001b[49m\n\u001b[0;32m   1994\u001b[0m \u001b[38;5;28;01mif\u001b[39;00m result\u001b[38;5;241m.\u001b[39mdtype \u001b[38;5;129;01mis\u001b[39;00m \u001b[38;5;129;01mnot\u001b[39;00m dtype:\n\u001b[0;32m   1995\u001b[0m     result \u001b[38;5;241m=\u001b[39m np\u001b[38;5;241m.\u001b[39masarray(result, dtype\u001b[38;5;241m=\u001b[39mdtype)\n",
      "File \u001b[1;32mc:\\Users\\Matheus\\data-mining\\venv\\Lib\\site-packages\\pandas\\core\\internals\\managers.py:1694\u001b[0m, in \u001b[0;36mBlockManager.as_array\u001b[1;34m(self, dtype, copy, na_value)\u001b[0m\n\u001b[0;32m   1692\u001b[0m         arr\u001b[38;5;241m.\u001b[39mflags\u001b[38;5;241m.\u001b[39mwriteable \u001b[38;5;241m=\u001b[39m \u001b[38;5;28;01mFalse\u001b[39;00m\n\u001b[0;32m   1693\u001b[0m \u001b[38;5;28;01melse\u001b[39;00m:\n\u001b[1;32m-> 1694\u001b[0m     arr \u001b[38;5;241m=\u001b[39m \u001b[38;5;28;43mself\u001b[39;49m\u001b[38;5;241;43m.\u001b[39;49m\u001b[43m_interleave\u001b[49m\u001b[43m(\u001b[49m\u001b[43mdtype\u001b[49m\u001b[38;5;241;43m=\u001b[39;49m\u001b[43mdtype\u001b[49m\u001b[43m,\u001b[49m\u001b[43m \u001b[49m\u001b[43mna_value\u001b[49m\u001b[38;5;241;43m=\u001b[39;49m\u001b[43mna_value\u001b[49m\u001b[43m)\u001b[49m\n\u001b[0;32m   1695\u001b[0m     \u001b[38;5;66;03m# The underlying data was copied within _interleave, so no need\u001b[39;00m\n\u001b[0;32m   1696\u001b[0m     \u001b[38;5;66;03m# to further copy if copy=True or setting na_value\u001b[39;00m\n\u001b[0;32m   1698\u001b[0m \u001b[38;5;28;01mif\u001b[39;00m na_value \u001b[38;5;129;01mis\u001b[39;00m lib\u001b[38;5;241m.\u001b[39mno_default:\n",
      "File \u001b[1;32mc:\\Users\\Matheus\\data-mining\\venv\\Lib\\site-packages\\pandas\\core\\internals\\managers.py:1753\u001b[0m, in \u001b[0;36mBlockManager._interleave\u001b[1;34m(self, dtype, na_value)\u001b[0m\n\u001b[0;32m   1751\u001b[0m     \u001b[38;5;28;01melse\u001b[39;00m:\n\u001b[0;32m   1752\u001b[0m         arr \u001b[38;5;241m=\u001b[39m blk\u001b[38;5;241m.\u001b[39mget_values(dtype)\n\u001b[1;32m-> 1753\u001b[0m     \u001b[43mresult\u001b[49m\u001b[43m[\u001b[49m\u001b[43mrl\u001b[49m\u001b[38;5;241;43m.\u001b[39;49m\u001b[43mindexer\u001b[49m\u001b[43m]\u001b[49m \u001b[38;5;241m=\u001b[39m arr\n\u001b[0;32m   1754\u001b[0m     itemmask[rl\u001b[38;5;241m.\u001b[39mindexer] \u001b[38;5;241m=\u001b[39m \u001b[38;5;241m1\u001b[39m\n\u001b[0;32m   1756\u001b[0m \u001b[38;5;28;01mif\u001b[39;00m \u001b[38;5;129;01mnot\u001b[39;00m itemmask\u001b[38;5;241m.\u001b[39mall():\n",
      "\u001b[1;31mValueError\u001b[0m: could not convert string to float: 'F'"
     ]
    }
   ],
   "source": [
    "# 8️⃣ Exibir matriz de correlação\n",
    "print(\"\\n📊 Matriz de Correlação das Variáveis Numéricas:\")\n",
    "correlation_matrix = df.corr()\n",
    "print(correlation_matrix)"
   ]
  }
 ],
 "metadata": {
  "kernelspec": {
   "display_name": "venv",
   "language": "python",
   "name": "python3"
  },
  "language_info": {
   "codemirror_mode": {
    "name": "ipython",
    "version": 3
   },
   "file_extension": ".py",
   "mimetype": "text/x-python",
   "name": "python",
   "nbconvert_exporter": "python",
   "pygments_lexer": "ipython3",
   "version": "3.12.6"
  }
 },
 "nbformat": 4,
 "nbformat_minor": 2
}
